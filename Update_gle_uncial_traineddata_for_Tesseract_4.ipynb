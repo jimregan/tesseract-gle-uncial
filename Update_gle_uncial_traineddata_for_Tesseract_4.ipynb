{
  "nbformat": 4,
  "nbformat_minor": 0,
  "metadata": {
    "colab": {
      "name": "Update gle_uncial.traineddata for Tesseract 4.ipynb",
      "provenance": [],
      "authorship_tag": "ABX9TyMXESPRb8Yj9yimGI5YEXCF",
      "include_colab_link": true
    },
    "kernelspec": {
      "name": "python3",
      "display_name": "Python 3"
    }
  },
  "cells": [
    {
      "cell_type": "markdown",
      "metadata": {
        "id": "view-in-github",
        "colab_type": "text"
      },
      "source": [
        "<a href=\"https://colab.research.google.com/github/jimregan/tesseract-gle-uncial/blob/master/Update_gle_uncial_traineddata_for_Tesseract_4.ipynb\" target=\"_parent\"><img src=\"https://colab.research.google.com/assets/colab-badge.svg\" alt=\"Open In Colab\"/></a>"
      ]
    },
    {
      "cell_type": "markdown",
      "metadata": {
        "id": "iHUxzWctjFyV",
        "colab_type": "text"
      },
      "source": [
        "Grab this for later"
      ]
    },
    {
      "cell_type": "code",
      "metadata": {
        "id": "a236_7rmMEFw",
        "colab_type": "code",
        "colab": {}
      },
      "source": [
        "!wget https://github.com/jimregan/tesseract-gle-uncial/releases/download/v0.1beta2/gle_uncial.traineddata"
      ],
      "execution_count": 0,
      "outputs": []
    },
    {
      "cell_type": "markdown",
      "metadata": {
        "id": "NQIJlHDIjK6-",
        "colab_type": "text"
      },
      "source": [
        "Install dependencies"
      ]
    },
    {
      "cell_type": "code",
      "metadata": {
        "id": "4eiDnu7MOk7m",
        "colab_type": "code",
        "colab": {}
      },
      "source": [
        "!apt-get install libicu-dev libpango1.0-dev libcairo2-dev libleptonica-dev\n"
      ],
      "execution_count": 0,
      "outputs": []
    },
    {
      "cell_type": "markdown",
      "metadata": {
        "id": "2aJLdU60jN7F",
        "colab_type": "text"
      },
      "source": [
        "Clone, compile and set up Tesseract"
      ]
    },
    {
      "cell_type": "code",
      "metadata": {
        "id": "Ay9TBwa2OyS2",
        "colab_type": "code",
        "outputId": "c1a53437-3bd2-4799-d067-e16be4b50931",
        "colab": {
          "base_uri": "https://localhost:8080/",
          "height": 136
        }
      },
      "source": [
        "!git clone https://github.com/tesseract-ocr/tesseract"
      ],
      "execution_count": 0,
      "outputs": [
        {
          "output_type": "stream",
          "text": [
            "Cloning into 'tesseract'...\n",
            "remote: Enumerating objects: 5, done.\u001b[K\n",
            "remote: Counting objects: 100% (5/5), done.\u001b[K\n",
            "remote: Compressing objects: 100% (4/4), done.\u001b[K\n",
            "remote: Total 34087 (delta 0), reused 3 (delta 0), pack-reused 34082\u001b[K\n",
            "Receiving objects: 100% (34087/34087), 44.79 MiB | 9.99 MiB/s, done.\n",
            "Resolving deltas: 100% (26460/26460), done.\n"
          ],
          "name": "stdout"
        }
      ]
    },
    {
      "cell_type": "code",
      "metadata": {
        "id": "wKWjma0dO2o6",
        "colab_type": "code",
        "colab": {}
      },
      "source": [
        "import os\n",
        "os.chdir('tesseract')"
      ],
      "execution_count": 0,
      "outputs": []
    },
    {
      "cell_type": "code",
      "metadata": {
        "id": "hPw7D97vO6L9",
        "colab_type": "code",
        "colab": {}
      },
      "source": [
        "!sh autogen.sh"
      ],
      "execution_count": 0,
      "outputs": []
    },
    {
      "cell_type": "code",
      "metadata": {
        "id": "YOvwWqHPPH0e",
        "colab_type": "code",
        "colab": {}
      },
      "source": [
        "!./configure --disable-graphics\n"
      ],
      "execution_count": 0,
      "outputs": []
    },
    {
      "cell_type": "code",
      "metadata": {
        "id": "yIBy1uMpPbFz",
        "colab_type": "code",
        "colab": {}
      },
      "source": [
        "!make -j 8\n",
        "!make install\n",
        "!ldconfig\n",
        "!make training\n",
        "!make training-install"
      ],
      "execution_count": 0,
      "outputs": []
    },
    {
      "cell_type": "markdown",
      "metadata": {
        "id": "0LxiYKLWjVjU",
        "colab_type": "text"
      },
      "source": [
        "Grab some things to scrape the RIA corpus"
      ]
    },
    {
      "cell_type": "code",
      "metadata": {
        "id": "jxMzngnITmb0",
        "colab_type": "code",
        "outputId": "1647b04e-e732-4343-d92f-e0acbbceb0c5",
        "colab": {
          "base_uri": "https://localhost:8080/",
          "height": 153
        }
      },
      "source": [
        "import os\n",
        "os.chdir('/content')\n",
        "!git clone https://github.com/jimregan/tesseract-gle-uncial/"
      ],
      "execution_count": 0,
      "outputs": [
        {
          "output_type": "stream",
          "text": [
            "Cloning into 'tesseract-gle-uncial'...\n",
            "remote: Enumerating objects: 29, done.\u001b[K\n",
            "remote: Counting objects: 100% (29/29), done.\u001b[K\n",
            "remote: Compressing objects: 100% (23/23), done.\u001b[K\n",
            "remote: Total 1402 (delta 5), reused 0 (delta 0), pack-reused 1373\u001b[K\n",
            "Receiving objects: 100% (1402/1402), 200.19 MiB | 13.09 MiB/s, done.\n",
            "Resolving deltas: 100% (634/634), done.\n",
            "Checking out files: 100% (630/630), done.\n"
          ],
          "name": "stdout"
        }
      ]
    },
    {
      "cell_type": "code",
      "metadata": {
        "id": "tVB4UgGzhMpC",
        "colab_type": "code",
        "colab": {}
      },
      "source": [
        "!apt-get install lynx"
      ],
      "execution_count": 0,
      "outputs": []
    },
    {
      "cell_type": "markdown",
      "metadata": {
        "id": "B-f-SM11jcZX",
        "colab_type": "text"
      },
      "source": [
        "Scrape the RIA corpus"
      ]
    },
    {
      "cell_type": "code",
      "metadata": {
        "id": "mjstRngogwZ9",
        "colab_type": "code",
        "colab": {}
      },
      "source": [
        "! for i in A B C D E F G H I J K L M N O P Q R S T U V W X Y Z;do lynx -dump \"http://corpas.ria.ie/index.php?fsg_function=1&fsg_page=$i\" |grep http://corpas.ria.ie|awk '{print $NF}' >> list;done"
      ],
      "execution_count": 0,
      "outputs": []
    },
    {
      "cell_type": "code",
      "metadata": {
        "id": "kOlwWCHthbf2",
        "colab_type": "code",
        "colab": {}
      },
      "source": [
        "!grep 'function=3' list |sort|uniq|grep corpas.ria|sed -e 's/function=3/function=5/' > input"
      ],
      "execution_count": 0,
      "outputs": []
    },
    {
      "cell_type": "code",
      "metadata": {
        "id": "y9awrS5UhuQk",
        "colab_type": "code",
        "colab": {}
      },
      "source": [
        "!wget -x -c -i input"
      ],
      "execution_count": 0,
      "outputs": []
    },
    {
      "cell_type": "code",
      "metadata": {
        "id": "sbhsu7ulh39e",
        "colab_type": "code",
        "colab": {}
      },
      "source": [
        "!mkdir text\n",
        "!for i in corpas.ria.ie/*;do id=$(echo $i|awk -F'=' '{print $NF}');cat $i | perl /content/tesseract-gle-uncial/scripts/extract-ria.pl > text/$id.txt;done"
      ],
      "execution_count": 0,
      "outputs": []
    },
    {
      "cell_type": "markdown",
      "metadata": {
        "id": "r6pGaPM2peVa",
        "colab_type": "text"
      },
      "source": [
        "Get the raw corpus in a single text file"
      ]
    },
    {
      "cell_type": "code",
      "metadata": {
        "id": "wfKt8NGjo6dB",
        "colab_type": "code",
        "colab": {}
      },
      "source": [
        "!cat text/*.txt|grep -v '^$' > ria-raw.txt\n"
      ],
      "execution_count": 0,
      "outputs": []
    },
    {
      "cell_type": "markdown",
      "metadata": {
        "id": "tYjMsLPvpj_0",
        "colab_type": "text"
      },
      "source": [
        "Compress the raw text; this can be downloaded through the file browser on the left, so the scraping steps can be skipped in future"
      ]
    },
    {
      "cell_type": "code",
      "metadata": {
        "id": "GibldvZ9psaY",
        "colab_type": "code",
        "colab": {}
      },
      "source": [
        "!gzip ria-raw.txt"
      ],
      "execution_count": 0,
      "outputs": []
    },
    {
      "cell_type": "markdown",
      "metadata": {
        "id": "b6EcoZpNp6jV",
        "colab_type": "text"
      },
      "source": [
        "...and can be re-added using the upload feature in the file browser"
      ]
    },
    {
      "cell_type": "code",
      "metadata": {
        "id": "IrNYEOk5qB5t",
        "colab_type": "code",
        "colab": {}
      },
      "source": [
        "!gzip -d ria-raw.txt.gz"
      ],
      "execution_count": 0,
      "outputs": []
    },
    {
      "cell_type": "markdown",
      "metadata": {
        "id": "NFM4Uo3VqRZV",
        "colab_type": "text"
      },
      "source": [
        "This next part is so I can update the langdata files"
      ]
    },
    {
      "cell_type": "code",
      "metadata": {
        "id": "3oaQWq5foukg",
        "colab_type": "code",
        "outputId": "fe427d93-d82f-41b5-aeef-486dcbface65",
        "colab": {
          "base_uri": "https://localhost:8080/",
          "height": 153
        }
      },
      "source": [
        "import os\n",
        "os.chdir('/content')\n",
        "!git clone https://github.com/tesseract-ocr/langdata"
      ],
      "execution_count": 0,
      "outputs": [
        {
          "output_type": "stream",
          "text": [
            "Cloning into 'langdata'...\n",
            "remote: Enumerating objects: 35, done.\u001b[K\n",
            "remote: Counting objects: 100% (35/35), done.\u001b[K\n",
            "remote: Compressing objects: 100% (33/33), done.\u001b[K\n",
            "remote: Total 2164 (delta 9), reused 12 (delta 2), pack-reused 2129\u001b[K\n",
            "Receiving objects: 100% (2164/2164), 400.19 MiB | 13.53 MiB/s, done.\n",
            "Resolving deltas: 100% (366/366), done.\n",
            "Checking out files: 100% (1022/1022), done.\n"
          ],
          "name": "stdout"
        }
      ]
    },
    {
      "cell_type": "code",
      "metadata": {
        "id": "4sN2ZqGWvy25",
        "colab_type": "code",
        "colab": {}
      },
      "source": [
        "!cat ria-raw.txt | perl /content/tesseract-gle-uncial/scripts/toponc.pl > ria-ponc.txt"
      ],
      "execution_count": 0,
      "outputs": []
    },
    {
      "cell_type": "code",
      "metadata": {
        "id": "sk5irOI9v_oz",
        "colab_type": "code",
        "colab": {}
      },
      "source": [
        "!mkdir genwlout"
      ],
      "execution_count": 0,
      "outputs": []
    },
    {
      "cell_type": "code",
      "metadata": {
        "id": "Ba8tk80tsTQb",
        "colab_type": "code",
        "colab": {}
      },
      "source": [
        "!perl /content/tesseract-gle-uncial/scripts/genlangdata.pl -i ria-ponc.txt -d genwlout -p gle_uncial"
      ],
      "execution_count": 0,
      "outputs": []
    },
    {
      "cell_type": "code",
      "metadata": {
        "id": "KjXJZn8gt1J_",
        "colab_type": "code",
        "colab": {}
      },
      "source": [
        "import os\n",
        "os.chdir('/content/genwlout')\n",
        "#!for i in gle_uncial.word.bigrams gle_uncial.wordlist gle_uncial.numbers gle_uncial.punc; do cat $i.unsorted | awk -F'\\t' '{print $1}' | sort | uniq > $i.sorted;done\n",
        "!for i in gle_uncial.word.bigrams gle_uncial.wordlist gle_uncial.numbers gle_uncial.punc; do cat $i.sorted /content/langdata/gle_uncial/$i | sort | uniq > $i;done"
      ],
      "execution_count": 0,
      "outputs": []
    },
    {
      "cell_type": "code",
      "metadata": {
        "id": "yFnmk5pnysoc",
        "colab_type": "code",
        "colab": {}
      },
      "source": [
        "!for i in gle_uncial.word.bigrams gle_uncial.wordlist gle_uncial.numbers gle_uncial.punc; do cp $i /content/langdata/gle_uncial/;done"
      ],
      "execution_count": 0,
      "outputs": []
    },
    {
      "cell_type": "code",
      "metadata": {
        "id": "5Bngw4sYqpaU",
        "colab_type": "code",
        "colab": {}
      },
      "source": [
        "Grab the fonts"
      ],
      "execution_count": 0,
      "outputs": []
    },
    {
      "cell_type": "code",
      "metadata": {
        "id": "TSECxvfFiCev",
        "colab_type": "code",
        "colab": {}
      },
      "source": [
        "import os\n",
        "os.chdir('/content')\n",
        "!mkdir fonts\n",
        "os.chdir('fonts')\n",
        "!wget -i /content/tesseract-gle-uncial/fonts.txt"
      ],
      "execution_count": 0,
      "outputs": []
    },
    {
      "cell_type": "code",
      "metadata": {
        "id": "VC_DFGpTqyqV",
        "colab_type": "code",
        "colab": {}
      },
      "source": [
        "!for i in *.zip; do unzip $i;done"
      ],
      "execution_count": 0,
      "outputs": []
    },
    {
      "cell_type": "markdown",
      "metadata": {
        "id": "M81Z0RiM2v9A",
        "colab_type": "text"
      },
      "source": [
        "Generate"
      ]
    },
    {
      "cell_type": "code",
      "metadata": {
        "id": "r8GW1jnI2yno",
        "colab_type": "code",
        "outputId": "4bc05f5b-b385-42b7-aeb3-1b554a795771",
        "colab": {
          "base_uri": "https://localhost:8080/",
          "height": 289
        }
      },
      "source": [
        "os.chdir('/content')\n",
        "!mkdir unpack\n",
        "!combine_tessdata -u /content/gle_uncial.traineddata unpack/gle_uncial."
      ],
      "execution_count": 0,
      "outputs": [
        {
          "output_type": "stream",
          "text": [
            "Extracting tessdata components from /content/gle_uncial.traineddata\n",
            "Wrote unpack/gle_uncial.lstm\n",
            "Wrote unpack/gle_uncial.lstm-punc-dawg\n",
            "Wrote unpack/gle_uncial.lstm-word-dawg\n",
            "Wrote unpack/gle_uncial.lstm-number-dawg\n",
            "Wrote unpack/gle_uncial.lstm-unicharset\n",
            "Wrote unpack/gle_uncial.lstm-recoder\n",
            "Wrote unpack/gle_uncial.version\n",
            "Version string:4.00.00alpha\n",
            "17:lstm:size=4291340, offset=192\n",
            "18:lstm-punc-dawg:size=890, offset=4291532\n",
            "19:lstm-word-dawg:size=5760002, offset=4292422\n",
            "20:lstm-number-dawg:size=226, offset=10052424\n",
            "21:lstm-unicharset:size=9938, offset=10052650\n",
            "22:lstm-recoder:size=1147, offset=10062588\n",
            "23:version:size=12, offset=10063735\n"
          ],
          "name": "stdout"
        }
      ]
    },
    {
      "cell_type": "code",
      "metadata": {
        "id": "ArIW_eg9B6JA",
        "colab_type": "code",
        "colab": {}
      },
      "source": [
        "os.chdir('unpack')\n",
        "!for i in gle_uncial.word.bigrams gle_uncial.wordlist gle_uncial.numbers gle_uncial.punc; do cp /content/genwlout/$i .;done"
      ],
      "execution_count": 0,
      "outputs": []
    },
    {
      "cell_type": "code",
      "metadata": {
        "id": "rgCTjJdBCVcm",
        "colab_type": "code",
        "outputId": "092087b1-d325-4547-aadf-38d7e3090fe1",
        "colab": {
          "base_uri": "https://localhost:8080/",
          "height": 221
        }
      },
      "source": [
        "!wordlist2dawg gle_uncial.numbers  gle_uncial.lstm-number-dawg gle_uncial.lstm-unicharset\n",
        "!wordlist2dawg gle_uncial.punc  gle_uncial.lstm-punc-dawg gle_uncial.lstm-unicharset\n",
        "!wordlist2dawg gle_uncial.wordlist  gle_uncial.lstm-word-dawg gle_uncial.lstm-unicharset"
      ],
      "execution_count": 0,
      "outputs": [
        {
          "output_type": "stream",
          "text": [
            "Loading unicharset from 'gle_uncial.lstm-unicharset'\n",
            "Reading word list from 'gle_uncial.numbers'\n",
            "Reducing Trie to SquishedDawg\n",
            "Writing squished DAWG to 'gle_uncial.lstm-number-dawg'\n",
            "Loading unicharset from 'gle_uncial.lstm-unicharset'\n",
            "Reading word list from 'gle_uncial.punc'\n",
            "Reducing Trie to SquishedDawg\n",
            "Writing squished DAWG to 'gle_uncial.lstm-punc-dawg'\n",
            "Loading unicharset from 'gle_uncial.lstm-unicharset'\n",
            "Reading word list from 'gle_uncial.wordlist'\n",
            "Reducing Trie to SquishedDawg\n",
            "Writing squished DAWG to 'gle_uncial.lstm-word-dawg'\n"
          ],
          "name": "stdout"
        }
      ]
    },
    {
      "cell_type": "code",
      "metadata": {
        "id": "wXTpu7WyEVmJ",
        "colab_type": "code",
        "colab": {}
      },
      "source": [
        "!rm gle_uncial.numbers gle_uncial.word.bigrams gle_uncial.punc gle_uncial.wordlist"
      ],
      "execution_count": 0,
      "outputs": []
    },
    {
      "cell_type": "code",
      "metadata": {
        "id": "4TGsyBAfEzc7",
        "colab_type": "code",
        "outputId": "6820aa58-996c-4d08-fa23-a12dfd270597",
        "colab": {
          "base_uri": "https://localhost:8080/",
          "height": 187
        }
      },
      "source": [
        "os.chdir('/content')\n",
        "!mv gle_uncial.traineddata gle_uncial.traineddata.orig\n",
        "!combine_tessdata unpack/gle_uncial."
      ],
      "execution_count": 0,
      "outputs": [
        {
          "output_type": "stream",
          "text": [
            "Combining tessdata files\n",
            "Output unpack/gle_uncial.traineddata created successfully.\n",
            "Version string:4.00.00alpha\n",
            "17:lstm:size=4291340, offset=192\n",
            "18:lstm-punc-dawg:size=24834, offset=4291532\n",
            "19:lstm-word-dawg:size=11350106, offset=4316366\n",
            "20:lstm-number-dawg:size=61530, offset=15666472\n",
            "21:lstm-unicharset:size=9938, offset=15728002\n",
            "22:lstm-recoder:size=1147, offset=15737940\n",
            "23:version:size=12, offset=15739087\n"
          ],
          "name": "stdout"
        }
      ]
    },
    {
      "cell_type": "markdown",
      "metadata": {
        "id": "ZdrcgsR1KxyY",
        "colab_type": "text"
      },
      "source": [
        ""
      ]
    },
    {
      "cell_type": "code",
      "metadata": {
        "id": "bfTU7NnPMLPo",
        "colab_type": "code",
        "outputId": "a2af3842-ea33-45f6-f60d-ea62c1db8f90",
        "colab": {
          "base_uri": "https://localhost:8080/",
          "height": 561
        }
      },
      "source": [
        "os.chdir('/content')\n",
        "!bash /content/tesseract/src/training/tesstrain.sh"
      ],
      "execution_count": 0,
      "outputs": [
        {
          "output_type": "stream",
          "text": [
            "USAGE: tesstrain.sh\n",
            "     --exposures EXPOSURES      # A list of exposure levels to use (e.g. \"-1 0 1\").\n",
            "     --fontlist FONTS           # A list of fontnames to train on.\n",
            "     --fonts_dir FONTS_PATH     # Path to font files.\n",
            "     --lang LANG_CODE           # ISO 639 code.\n",
            "     --langdata_dir DATADIR     # Path to tesseract/training/langdata directory.\n",
            "     --linedata_only            # Only generate training data for lstmtraining.\n",
            "     --output_dir OUTPUTDIR     # Location of output traineddata file.\n",
            "     --overwrite                # Safe to overwrite files in output_dir.\n",
            "     --run_shape_clustering     # Run shape clustering (use for Indic langs).\n",
            "     --maxpages                 # Specify maximum pages to output (default:0=all)\n",
            "     --save_box_tiff            # Save box/tiff pairs along with lstmf files.\n",
            "     --xsize                    # Specify width of output image (default:3600)\n",
            "\n",
            "  OPTIONAL flag for specifying directory with user specified box/tiff pairs.\n",
            "  Files should be named similar to ${LANG_CODE}.${fontname}.exp${EXPOSURE}.box/tif\n",
            "     --my_boxtiff_dir MY_BOXTIFF_DIR # Location of user specified box/tiff files.\n",
            "\n",
            "  OPTIONAL flags for input data. If unspecified we will look for them in\n",
            "  the langdata_dir directory.\n",
            "     --training_text TEXTFILE   # Text to render and use for training.\n",
            "     --wordlist WORDFILE        # Word list for the language ordered by\n",
            "                                # decreasing frequency.\n",
            "  OPTIONAL flag to specify location of existing traineddata files, required\n",
            "  during feature extraction. If unspecified will use TESSDATA_PREFIX defined in\n",
            "  the current environment.\n",
            "     --tessdata_dir TESSDATADIR     # Path to tesseract/tessdata directory.\n",
            "  NOTE:\n",
            "  The font names specified in --fontlist need to be recognizable by Pango using\n",
            "  fontconfig. An easy way to list the canonical names of all fonts available on\n",
            "  your system is to run text2image with --list_available_fonts and the\n",
            "  appropriate --fonts_dir path.\n"
          ],
          "name": "stdout"
        }
      ]
    },
    {
      "cell_type": "code",
      "metadata": {
        "id": "62p1uKWwMsUC",
        "colab_type": "code",
        "outputId": "24cb3959-b04e-461f-d34a-dfbecc72b827",
        "colab": {
          "base_uri": "https://localhost:8080/",
          "height": 408
        }
      },
      "source": [
        "!text2image --fonts_dir fonts --list_available_fonts"
      ],
      "execution_count": 0,
      "outputs": [
        {
          "output_type": "stream",
          "text": [
            "  0: Bunchlo Arsa Dubh GC\n",
            "  1: Bunchlo Arsa GC\n",
            "  2: Bunchlo Arsa GC Bold\n",
            "  3: Bunchlo Dubh GC\n",
            "  4: Bunchlo GC\n",
            "  5: Bunchlo GC Bold\n",
            "  6: Bunchlo Nua GC Bold\n",
            "  7: Bunchló na Nod GC\n",
            "  8: Gadelica\n",
            "  9: Glanchlo Dubh GC\n",
            " 10: Glanchlo GC\n",
            " 11: Glanchlo GC Bold\n",
            " 12: Seanchló Dubh GC\n",
            " 13: Seanchló GC\n",
            " 14: Seanchló GC Bold\n",
            " 15: Seanchló na Nod GC\n",
            " 16: Seanchló Ársa Dubh GC\n",
            " 17: Seanchló Ársa GC\n",
            " 18: Seanchló Ársa GC Bold\n",
            " 19: Tromchlo Beag GC\n",
            " 20: Tromchlo Mor GC\n",
            " 21: Urchlo GC\n",
            " 22: Urchlo GC Bold\n"
          ],
          "name": "stdout"
        }
      ]
    },
    {
      "cell_type": "code",
      "metadata": {
        "id": "Hff0WNbTUnQQ",
        "colab_type": "code",
        "colab": {}
      },
      "source": [
        "!cat genwlout/gle_uncial.wordlist.unsorted|awk -F'\\t' '{print $2 \"\\t\" $1'}|sort -nr > freqlist"
      ],
      "execution_count": 0,
      "outputs": []
    },
    {
      "cell_type": "code",
      "metadata": {
        "id": "OdHNE5mDVLvf",
        "colab_type": "code",
        "colab": {}
      },
      "source": [
        "!cat freqlist|awk -F'\\t' '{print $2}'|grep -v '^$' > wordlist"
      ],
      "execution_count": 0,
      "outputs": []
    },
    {
      "cell_type": "code",
      "metadata": {
        "id": "oFkOliGOVTzt",
        "colab_type": "code",
        "colab": {}
      },
      "source": [
        "!cat ria-ponc.txt|sort|uniq|head -n 400000 > gle_uncial.training_text"
      ],
      "execution_count": 0,
      "outputs": []
    },
    {
      "cell_type": "code",
      "metadata": {
        "id": "YztuEZRnXFbA",
        "colab_type": "code",
        "colab": {}
      },
      "source": [
        "!cp unpack/gle_uncial.traineddata /usr/share/tesseract-ocr/4.00/tessdata"
      ],
      "execution_count": 0,
      "outputs": []
    },
    {
      "cell_type": "code",
      "metadata": {
        "id": "yfbMAyDTWoe_",
        "colab_type": "code",
        "colab": {}
      },
      "source": [
        "!cp gle_uncial.trainingtext langdata/gle_uncial/"
      ],
      "execution_count": 0,
      "outputs": []
    },
    {
      "cell_type": "code",
      "metadata": {
        "id": "wMJZlczSXOYk",
        "colab_type": "code",
        "colab": {}
      },
      "source": [
        "!mkdir output"
      ],
      "execution_count": 0,
      "outputs": []
    },
    {
      "cell_type": "code",
      "metadata": {
        "id": "LqWdROBKWCrW",
        "colab_type": "code",
        "outputId": "80858c05-b292-4133-b88d-eaf63ad649dd",
        "colab": {
          "base_uri": "https://localhost:8080/",
          "height": 1000
        }
      },
      "source": [
        "!bash tesseract/src/training/tesstrain.sh --fonts_dir fonts --lang gle_uncial --linedata_only --noextract_font_properties --langdata_dir langdata --tessdata_dir /usr/share/tesseract-ocr/4.00/tessdata --output_dir output"
      ],
      "execution_count": 0,
      "outputs": [
        {
          "output_type": "stream",
          "text": [
            "Rendered page 5700 to file /tmp/gle_uncial-2020-04-19.IxP/gle_uncial.Bunchlo_Dubh_GC.exp0.tif\n",
            "Rendered page 5709 to file /tmp/gle_uncial-2020-04-19.IxP/gle_uncial.Bunchlo_Arsa_Dubh_GC.exp0.tif\n",
            "Rendered page 5710 to file /tmp/gle_uncial-2020-04-19.IxP/gle_uncial.Bunchlo_Arsa_GC.exp0.tif\n",
            "Rendered page 5706 to file /tmp/gle_uncial-2020-04-19.IxP/gle_uncial.Bunchlo_Nua_GC_Bold.exp0.tif\n",
            "Rendered page 5701 to file /tmp/gle_uncial-2020-04-19.IxP/gle_uncial.Bunchlo_Arsa_GC_Bold.exp0.tif\n",
            "Rendered page 5702 to file /tmp/gle_uncial-2020-04-19.IxP/gle_uncial.Bunchlo_GC.exp0.tif\n",
            "Rendered page 5704 to file /tmp/gle_uncial-2020-04-19.IxP/gle_uncial.Bunchlo_GC_Bold.exp0.tif\n",
            "Rendered page 5701 to file /tmp/gle_uncial-2020-04-19.IxP/gle_uncial.Bunchlo_Dubh_GC.exp0.tif\n",
            "Rendered page 5710 to file /tmp/gle_uncial-2020-04-19.IxP/gle_uncial.Bunchlo_Arsa_Dubh_GC.exp0.tif\n",
            "Rendered page 5711 to file /tmp/gle_uncial-2020-04-19.IxP/gle_uncial.Bunchlo_Arsa_GC.exp0.tif\n",
            "Rendered page 5705 to file /tmp/gle_uncial-2020-04-19.IxP/gle_uncial.Bunchlo_GC_Bold.exp0.tif\n",
            "Rendered page 5707 to file /tmp/gle_uncial-2020-04-19.IxP/gle_uncial.Bunchlo_Nua_GC_Bold.exp0.tif\n",
            "Rendered page 5702 to file /tmp/gle_uncial-2020-04-19.IxP/gle_uncial.Bunchlo_Arsa_GC_Bold.exp0.tif\n",
            "Rendered page 5703 to file /tmp/gle_uncial-2020-04-19.IxP/gle_uncial.Bunchlo_GC.exp0.tif\n",
            "Rendered page 5702 to file /tmp/gle_uncial-2020-04-19.IxP/gle_uncial.Bunchlo_Dubh_GC.exp0.tif\n",
            "Rendered page 5712 to file /tmp/gle_uncial-2020-04-19.IxP/gle_uncial.Bunchlo_Arsa_GC.exp0.tif\n",
            "Rendered page 5711 to file /tmp/gle_uncial-2020-04-19.IxP/gle_uncial.Bunchlo_Arsa_Dubh_GC.exp0.tif\n",
            "Rendered page 5706 to file /tmp/gle_uncial-2020-04-19.IxP/gle_uncial.Bunchlo_GC_Bold.exp0.tif\n",
            "Rendered page 5708 to file /tmp/gle_uncial-2020-04-19.IxP/gle_uncial.Bunchlo_Nua_GC_Bold.exp0.tif\n",
            "Rendered page 5703 to file /tmp/gle_uncial-2020-04-19.IxP/gle_uncial.Bunchlo_Arsa_GC_Bold.exp0.tif\n",
            "Rendered page 5704 to file /tmp/gle_uncial-2020-04-19.IxP/gle_uncial.Bunchlo_GC.exp0.tif\n",
            "Rendered page 5703 to file /tmp/gle_uncial-2020-04-19.IxP/gle_uncial.Bunchlo_Dubh_GC.exp0.tif\n",
            "Rendered page 5713 to file /tmp/gle_uncial-2020-04-19.IxP/gle_uncial.Bunchlo_Arsa_GC.exp0.tif\n",
            "Rendered page 5709 to file /tmp/gle_uncial-2020-04-19.IxP/gle_uncial.Bunchlo_Nua_GC_Bold.exp0.tif\n",
            "Rendered page 5712 to file /tmp/gle_uncial-2020-04-19.IxP/gle_uncial.Bunchlo_Arsa_Dubh_GC.exp0.tif\n",
            "Rendered page 5705 to file /tmp/gle_uncial-2020-04-19.IxP/gle_uncial.Bunchlo_GC.exp0.tif\n",
            "Rendered page 5707 to file /tmp/gle_uncial-2020-04-19.IxP/gle_uncial.Bunchlo_GC_Bold.exp0.tif\n",
            "Rendered page 5704 to file /tmp/gle_uncial-2020-04-19.IxP/gle_uncial.Bunchlo_Arsa_GC_Bold.exp0.tif\n",
            "Rendered page 5704 to file /tmp/gle_uncial-2020-04-19.IxP/gle_uncial.Bunchlo_Dubh_GC.exp0.tif\n",
            "Rendered page 5714 to file /tmp/gle_uncial-2020-04-19.IxP/gle_uncial.Bunchlo_Arsa_GC.exp0.tif\n",
            "Rendered page 5713 to file /tmp/gle_uncial-2020-04-19.IxP/gle_uncial.Bunchlo_Arsa_Dubh_GC.exp0.tif\n",
            "Rendered page 5705 to file /tmp/gle_uncial-2020-04-19.IxP/gle_uncial.Bunchlo_Arsa_GC_Bold.exp0.tif\n",
            "Rendered page 5710 to file /tmp/gle_uncial-2020-04-19.IxP/gle_uncial.Bunchlo_Nua_GC_Bold.exp0.tif\n",
            "Rendered page 5706 to file /tmp/gle_uncial-2020-04-19.IxP/gle_uncial.Bunchlo_GC.exp0.tif\n",
            "Rendered page 5705 to file /tmp/gle_uncial-2020-04-19.IxP/gle_uncial.Bunchlo_Dubh_GC.exp0.tif\n",
            "Rendered page 5708 to file /tmp/gle_uncial-2020-04-19.IxP/gle_uncial.Bunchlo_GC_Bold.exp0.tif\n",
            "Rendered page 5714 to file /tmp/gle_uncial-2020-04-19.IxP/gle_uncial.Bunchlo_Arsa_Dubh_GC.exp0.tif\n",
            "Rendered page 5715 to file /tmp/gle_uncial-2020-04-19.IxP/gle_uncial.Bunchlo_Arsa_GC.exp0.tif\n",
            "Rendered page 5709 to file /tmp/gle_uncial-2020-04-19.IxP/gle_uncial.Bunchlo_GC_Bold.exp0.tif\n",
            "Rendered page 5706 to file /tmp/gle_uncial-2020-04-19.IxP/gle_uncial.Bunchlo_Arsa_GC_Bold.exp0.tif\n",
            "Rendered page 5711 to file /tmp/gle_uncial-2020-04-19.IxP/gle_uncial.Bunchlo_Nua_GC_Bold.exp0.tif\n",
            "Rendered page 5707 to file /tmp/gle_uncial-2020-04-19.IxP/gle_uncial.Bunchlo_GC.exp0.tif\n",
            "Rendered page 5706 to file /tmp/gle_uncial-2020-04-19.IxP/gle_uncial.Bunchlo_Dubh_GC.exp0.tif\n",
            "Rendered page 5716 to file /tmp/gle_uncial-2020-04-19.IxP/gle_uncial.Bunchlo_Arsa_GC.exp0.tif\n",
            "Rendered page 5715 to file /tmp/gle_uncial-2020-04-19.IxP/gle_uncial.Bunchlo_Arsa_Dubh_GC.exp0.tif\n",
            "Rendered page 5710 to file /tmp/gle_uncial-2020-04-19.IxP/gle_uncial.Bunchlo_GC_Bold.exp0.tif\n",
            "Rendered page 5707 to file /tmp/gle_uncial-2020-04-19.IxP/gle_uncial.Bunchlo_Arsa_GC_Bold.exp0.tif\n",
            "Rendered page 5712 to file /tmp/gle_uncial-2020-04-19.IxP/gle_uncial.Bunchlo_Nua_GC_Bold.exp0.tif\n",
            "Rendered page 5708 to file /tmp/gle_uncial-2020-04-19.IxP/gle_uncial.Bunchlo_GC.exp0.tif\n",
            "Rendered page 5707 to file /tmp/gle_uncial-2020-04-19.IxP/gle_uncial.Bunchlo_Dubh_GC.exp0.tif\n",
            "Rendered page 5716 to file /tmp/gle_uncial-2020-04-19.IxP/gle_uncial.Bunchlo_Arsa_Dubh_GC.exp0.tif\n",
            "Rendered page 5717 to file /tmp/gle_uncial-2020-04-19.IxP/gle_uncial.Bunchlo_Arsa_GC.exp0.tif\n",
            "Rendered page 5709 to file /tmp/gle_uncial-2020-04-19.IxP/gle_uncial.Bunchlo_GC.exp0.tif\n",
            "Rendered page 5708 to file /tmp/gle_uncial-2020-04-19.IxP/gle_uncial.Bunchlo_Arsa_GC_Bold.exp0.tif\n",
            "Rendered page 5711 to file /tmp/gle_uncial-2020-04-19.IxP/gle_uncial.Bunchlo_GC_Bold.exp0.tif\n",
            "Rendered page 5713 to file /tmp/gle_uncial-2020-04-19.IxP/gle_uncial.Bunchlo_Nua_GC_Bold.exp0.tif\n",
            "Rendered page 5708 to file /tmp/gle_uncial-2020-04-19.IxP/gle_uncial.Bunchlo_Dubh_GC.exp0.tif\n",
            "Rendered page 5718 to file /tmp/gle_uncial-2020-04-19.IxP/gle_uncial.Bunchlo_Arsa_GC.exp0.tif\n",
            "Rendered page 5717 to file /tmp/gle_uncial-2020-04-19.IxP/gle_uncial.Bunchlo_Arsa_Dubh_GC.exp0.tif\n",
            "Rendered page 5709 to file /tmp/gle_uncial-2020-04-19.IxP/gle_uncial.Bunchlo_Arsa_GC_Bold.exp0.tif\n",
            "Rendered page 5710 to file /tmp/gle_uncial-2020-04-19.IxP/gle_uncial.Bunchlo_GC.exp0.tif\n",
            "Rendered page 5709 to file /tmp/gle_uncial-2020-04-19.IxP/gle_uncial.Bunchlo_Dubh_GC.exp0.tif\n",
            "Rendered page 5712 to file /tmp/gle_uncial-2020-04-19.IxP/gle_uncial.Bunchlo_GC_Bold.exp0.tif\n",
            "Rendered page 5714 to file /tmp/gle_uncial-2020-04-19.IxP/gle_uncial.Bunchlo_Nua_GC_Bold.exp0.tif\n",
            "Rendered page 5710 to file /tmp/gle_uncial-2020-04-19.IxP/gle_uncial.Bunchlo_Arsa_GC_Bold.exp0.tif\n",
            "Rendered page 5719 to file /tmp/gle_uncial-2020-04-19.IxP/gle_uncial.Bunchlo_Arsa_GC.exp0.tif\n",
            "Rendered page 5718 to file /tmp/gle_uncial-2020-04-19.IxP/gle_uncial.Bunchlo_Arsa_Dubh_GC.exp0.tif\n",
            "Rendered page 5711 to file /tmp/gle_uncial-2020-04-19.IxP/gle_uncial.Bunchlo_GC.exp0.tif\n",
            "Rendered page 5710 to file /tmp/gle_uncial-2020-04-19.IxP/gle_uncial.Bunchlo_Dubh_GC.exp0.tif\n",
            "Rendered page 5713 to file /tmp/gle_uncial-2020-04-19.IxP/gle_uncial.Bunchlo_GC_Bold.exp0.tif\n",
            "Rendered page 5715 to file /tmp/gle_uncial-2020-04-19.IxP/gle_uncial.Bunchlo_Nua_GC_Bold.exp0.tif\n",
            "Rendered page 5711 to file /tmp/gle_uncial-2020-04-19.IxP/gle_uncial.Bunchlo_Arsa_GC_Bold.exp0.tif\n",
            "Rendered page 5720 to file /tmp/gle_uncial-2020-04-19.IxP/gle_uncial.Bunchlo_Arsa_GC.exp0.tif\n",
            "Rendered page 5719 to file /tmp/gle_uncial-2020-04-19.IxP/gle_uncial.Bunchlo_Arsa_Dubh_GC.exp0.tif\n",
            "Rendered page 5716 to file /tmp/gle_uncial-2020-04-19.IxP/gle_uncial.Bunchlo_Nua_GC_Bold.exp0.tif\n",
            "Rendered page 5712 to file /tmp/gle_uncial-2020-04-19.IxP/gle_uncial.Bunchlo_GC.exp0.tif\n",
            "Rendered page 5711 to file /tmp/gle_uncial-2020-04-19.IxP/gle_uncial.Bunchlo_Dubh_GC.exp0.tif\n",
            "Rendered page 5714 to file /tmp/gle_uncial-2020-04-19.IxP/gle_uncial.Bunchlo_GC_Bold.exp0.tif\n",
            "Rendered page 5712 to file /tmp/gle_uncial-2020-04-19.IxP/gle_uncial.Bunchlo_Arsa_GC_Bold.exp0.tif\n",
            "Rendered page 5720 to file /tmp/gle_uncial-2020-04-19.IxP/gle_uncial.Bunchlo_Arsa_Dubh_GC.exp0.tif\n",
            "Rendered page 5717 to file /tmp/gle_uncial-2020-04-19.IxP/gle_uncial.Bunchlo_Nua_GC_Bold.exp0.tif\n",
            "Rendered page 5721 to file /tmp/gle_uncial-2020-04-19.IxP/gle_uncial.Bunchlo_Arsa_GC.exp0.tif\n",
            "Rendered page 5713 to file /tmp/gle_uncial-2020-04-19.IxP/gle_uncial.Bunchlo_GC.exp0.tif\n",
            "Rendered page 5712 to file /tmp/gle_uncial-2020-04-19.IxP/gle_uncial.Bunchlo_Dubh_GC.exp0.tif\n",
            "Rendered page 5715 to file /tmp/gle_uncial-2020-04-19.IxP/gle_uncial.Bunchlo_GC_Bold.exp0.tif\n",
            "Rendered page 5716 to file /tmp/gle_uncial-2020-04-19.IxP/gle_uncial.Bunchlo_GC_Bold.exp0.tif\n",
            "Rendered page 5713 to file /tmp/gle_uncial-2020-04-19.IxP/gle_uncial.Bunchlo_Arsa_GC_Bold.exp0.tif\n",
            "Rendered page 5721 to file /tmp/gle_uncial-2020-04-19.IxP/gle_uncial.Bunchlo_Arsa_Dubh_GC.exp0.tif\n",
            "Rendered page 5722 to file /tmp/gle_uncial-2020-04-19.IxP/gle_uncial.Bunchlo_Arsa_GC.exp0.tif\n",
            "Rendered page 5718 to file /tmp/gle_uncial-2020-04-19.IxP/gle_uncial.Bunchlo_Nua_GC_Bold.exp0.tif\n",
            "Rendered page 5714 to file /tmp/gle_uncial-2020-04-19.IxP/gle_uncial.Bunchlo_GC.exp0.tif\n",
            "Rendered page 5713 to file /tmp/gle_uncial-2020-04-19.IxP/gle_uncial.Bunchlo_Dubh_GC.exp0.tif\n",
            "Rendered page 5717 to file /tmp/gle_uncial-2020-04-19.IxP/gle_uncial.Bunchlo_GC_Bold.exp0.tif\n",
            "Rendered page 5714 to file /tmp/gle_uncial-2020-04-19.IxP/gle_uncial.Bunchlo_Arsa_GC_Bold.exp0.tif\n",
            "Rendered page 5722 to file /tmp/gle_uncial-2020-04-19.IxP/gle_uncial.Bunchlo_Arsa_Dubh_GC.exp0.tif\n",
            "Rendered page 5719 to file /tmp/gle_uncial-2020-04-19.IxP/gle_uncial.Bunchlo_Nua_GC_Bold.exp0.tif\n"
          ],
          "name": "stdout"
        }
      ]
    }
  ]
}