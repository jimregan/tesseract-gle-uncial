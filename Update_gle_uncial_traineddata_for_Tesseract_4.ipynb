{
  "nbformat": 4,
  "nbformat_minor": 0,
  "metadata": {
    "colab": {
      "name": "Update gle_uncial.traineddata for Tesseract 4.ipynb",
      "provenance": [],
      "authorship_tag": "ABX9TyPCzX2ZrJioH+D8MIPOQF3l",
      "include_colab_link": true
    },
    "kernelspec": {
      "name": "python3",
      "display_name": "Python 3"
    }
  },
  "cells": [
    {
      "cell_type": "markdown",
      "metadata": {
        "id": "view-in-github",
        "colab_type": "text"
      },
      "source": [
        "<a href=\"https://colab.research.google.com/github/jimregan/tesseract-gle-uncial/blob/master/Update_gle_uncial_traineddata_for_Tesseract_4.ipynb\" target=\"_parent\"><img src=\"https://colab.research.google.com/assets/colab-badge.svg\" alt=\"Open In Colab\"/></a>"
      ]
    },
    {
      "cell_type": "markdown",
      "metadata": {
        "id": "iHUxzWctjFyV",
        "colab_type": "text"
      },
      "source": [
        "Grab this for later"
      ]
    },
    {
      "cell_type": "code",
      "metadata": {
        "id": "a236_7rmMEFw",
        "colab_type": "code",
        "colab": {}
      },
      "source": [
        "!wget https://github.com/jimregan/tesseract-gle-uncial/releases/download/v0.1beta2/gle_uncial.traineddata"
      ],
      "execution_count": 0,
      "outputs": []
    },
    {
      "cell_type": "markdown",
      "metadata": {
        "id": "NQIJlHDIjK6-",
        "colab_type": "text"
      },
      "source": [
        "Install dependencies"
      ]
    },
    {
      "cell_type": "code",
      "metadata": {
        "id": "4eiDnu7MOk7m",
        "colab_type": "code",
        "colab": {}
      },
      "source": [
        "!apt-get install libicu-dev libpango1.0-dev libcairo2-dev libleptonica-dev\n"
      ],
      "execution_count": 0,
      "outputs": []
    },
    {
      "cell_type": "markdown",
      "metadata": {
        "id": "2aJLdU60jN7F",
        "colab_type": "text"
      },
      "source": [
        "Clone, compile and set up Tesseract"
      ]
    },
    {
      "cell_type": "code",
      "metadata": {
        "id": "Ay9TBwa2OyS2",
        "colab_type": "code",
        "colab": {
          "base_uri": "https://localhost:8080/",
          "height": 136
        },
        "outputId": "c1a53437-3bd2-4799-d067-e16be4b50931"
      },
      "source": [
        "!git clone https://github.com/tesseract-ocr/tesseract"
      ],
      "execution_count": 8,
      "outputs": [
        {
          "output_type": "stream",
          "text": [
            "Cloning into 'tesseract'...\n",
            "remote: Enumerating objects: 5, done.\u001b[K\n",
            "remote: Counting objects: 100% (5/5), done.\u001b[K\n",
            "remote: Compressing objects: 100% (4/4), done.\u001b[K\n",
            "remote: Total 34087 (delta 0), reused 3 (delta 0), pack-reused 34082\u001b[K\n",
            "Receiving objects: 100% (34087/34087), 44.79 MiB | 9.99 MiB/s, done.\n",
            "Resolving deltas: 100% (26460/26460), done.\n"
          ],
          "name": "stdout"
        }
      ]
    },
    {
      "cell_type": "code",
      "metadata": {
        "id": "wKWjma0dO2o6",
        "colab_type": "code",
        "colab": {}
      },
      "source": [
        "import os\n",
        "os.chdir('tesseract')"
      ],
      "execution_count": 0,
      "outputs": []
    },
    {
      "cell_type": "code",
      "metadata": {
        "id": "hPw7D97vO6L9",
        "colab_type": "code",
        "colab": {}
      },
      "source": [
        "!sh autogen.sh"
      ],
      "execution_count": 0,
      "outputs": []
    },
    {
      "cell_type": "code",
      "metadata": {
        "id": "YOvwWqHPPH0e",
        "colab_type": "code",
        "colab": {}
      },
      "source": [
        "!./configure --disable-graphics\n"
      ],
      "execution_count": 0,
      "outputs": []
    },
    {
      "cell_type": "code",
      "metadata": {
        "id": "yIBy1uMpPbFz",
        "colab_type": "code",
        "colab": {}
      },
      "source": [
        "!make -j 8\n",
        "!make install\n",
        "!ldconfig\n",
        "!make training\n",
        "!make training-install"
      ],
      "execution_count": 0,
      "outputs": []
    },
    {
      "cell_type": "markdown",
      "metadata": {
        "id": "0LxiYKLWjVjU",
        "colab_type": "text"
      },
      "source": [
        "Grab some things to scrape the RIA corpus"
      ]
    },
    {
      "cell_type": "code",
      "metadata": {
        "id": "jxMzngnITmb0",
        "colab_type": "code",
        "colab": {
          "base_uri": "https://localhost:8080/",
          "height": 153
        },
        "outputId": "1647b04e-e732-4343-d92f-e0acbbceb0c5"
      },
      "source": [
        "import os\n",
        "os.chdir('/content')\n",
        "!git clone https://github.com/jimregan/tesseract-gle-uncial/"
      ],
      "execution_count": 17,
      "outputs": [
        {
          "output_type": "stream",
          "text": [
            "Cloning into 'tesseract-gle-uncial'...\n",
            "remote: Enumerating objects: 29, done.\u001b[K\n",
            "remote: Counting objects: 100% (29/29), done.\u001b[K\n",
            "remote: Compressing objects: 100% (23/23), done.\u001b[K\n",
            "remote: Total 1402 (delta 5), reused 0 (delta 0), pack-reused 1373\u001b[K\n",
            "Receiving objects: 100% (1402/1402), 200.19 MiB | 13.09 MiB/s, done.\n",
            "Resolving deltas: 100% (634/634), done.\n",
            "Checking out files: 100% (630/630), done.\n"
          ],
          "name": "stdout"
        }
      ]
    },
    {
      "cell_type": "code",
      "metadata": {
        "id": "tVB4UgGzhMpC",
        "colab_type": "code",
        "colab": {}
      },
      "source": [
        "!apt-get install lynx"
      ],
      "execution_count": 0,
      "outputs": []
    },
    {
      "cell_type": "markdown",
      "metadata": {
        "id": "B-f-SM11jcZX",
        "colab_type": "text"
      },
      "source": [
        "Scrape the RIA corpus"
      ]
    },
    {
      "cell_type": "code",
      "metadata": {
        "id": "mjstRngogwZ9",
        "colab_type": "code",
        "colab": {}
      },
      "source": [
        "! for i in A B C D E F G H I J K L M N O P Q R S T U V W X Y Z;do lynx -dump \"http://corpas.ria.ie/index.php?fsg_function=1&fsg_page=$i\" |grep http://corpas.ria.ie|awk '{print $NF}' >> list;done"
      ],
      "execution_count": 0,
      "outputs": []
    },
    {
      "cell_type": "code",
      "metadata": {
        "id": "kOlwWCHthbf2",
        "colab_type": "code",
        "colab": {}
      },
      "source": [
        "!grep 'function=3' list |sort|uniq|grep corpas.ria|sed -e 's/function=3/function=5/' > input"
      ],
      "execution_count": 0,
      "outputs": []
    },
    {
      "cell_type": "code",
      "metadata": {
        "id": "y9awrS5UhuQk",
        "colab_type": "code",
        "colab": {}
      },
      "source": [
        "!wget -x -c -i input"
      ],
      "execution_count": 0,
      "outputs": []
    },
    {
      "cell_type": "code",
      "metadata": {
        "id": "sbhsu7ulh39e",
        "colab_type": "code",
        "colab": {}
      },
      "source": [
        "!mkdir text\n",
        "!for i in corpas.ria.ie/*;do id=$(echo $i|awk -F'=' '{print $NF}');cat $i | perl /content/tesseract-gle-uncial/scripts/extract-ria.pl > text/$id.txt;done"
      ],
      "execution_count": 0,
      "outputs": []
    },
    {
      "cell_type": "markdown",
      "metadata": {
        "id": "r6pGaPM2peVa",
        "colab_type": "text"
      },
      "source": [
        "Get the raw corpus in a single text file"
      ]
    },
    {
      "cell_type": "code",
      "metadata": {
        "id": "wfKt8NGjo6dB",
        "colab_type": "code",
        "colab": {}
      },
      "source": [
        "!cat text/*.txt|grep -v '^$' > ria-raw.txt\n"
      ],
      "execution_count": 0,
      "outputs": []
    },
    {
      "cell_type": "markdown",
      "metadata": {
        "id": "tYjMsLPvpj_0",
        "colab_type": "text"
      },
      "source": [
        "Compress the raw text; this can be downloaded through the file browser on the left, so the scraping steps can be skipped in future"
      ]
    },
    {
      "cell_type": "code",
      "metadata": {
        "id": "GibldvZ9psaY",
        "colab_type": "code",
        "colab": {}
      },
      "source": [
        "!gzip ria-raw.txt"
      ],
      "execution_count": 0,
      "outputs": []
    },
    {
      "cell_type": "markdown",
      "metadata": {
        "id": "b6EcoZpNp6jV",
        "colab_type": "text"
      },
      "source": [
        "...and can be re-added using the upload feature in the file browser"
      ]
    },
    {
      "cell_type": "code",
      "metadata": {
        "id": "IrNYEOk5qB5t",
        "colab_type": "code",
        "colab": {}
      },
      "source": [
        "!gzip -d ria-raw.txt.gz"
      ],
      "execution_count": 0,
      "outputs": []
    },
    {
      "cell_type": "markdown",
      "metadata": {
        "id": "NFM4Uo3VqRZV",
        "colab_type": "text"
      },
      "source": [
        "This next part is so I can update the langdata files"
      ]
    },
    {
      "cell_type": "code",
      "metadata": {
        "id": "3oaQWq5foukg",
        "colab_type": "code",
        "colab": {
          "base_uri": "https://localhost:8080/",
          "height": 153
        },
        "outputId": "fe427d93-d82f-41b5-aeef-486dcbface65"
      },
      "source": [
        "import os\n",
        "os.chdir('/content')\n",
        "!git clone https://github.com/tesseract-ocr/langdata"
      ],
      "execution_count": 33,
      "outputs": [
        {
          "output_type": "stream",
          "text": [
            "Cloning into 'langdata'...\n",
            "remote: Enumerating objects: 35, done.\u001b[K\n",
            "remote: Counting objects: 100% (35/35), done.\u001b[K\n",
            "remote: Compressing objects: 100% (33/33), done.\u001b[K\n",
            "remote: Total 2164 (delta 9), reused 12 (delta 2), pack-reused 2129\u001b[K\n",
            "Receiving objects: 100% (2164/2164), 400.19 MiB | 13.53 MiB/s, done.\n",
            "Resolving deltas: 100% (366/366), done.\n",
            "Checking out files: 100% (1022/1022), done.\n"
          ],
          "name": "stdout"
        }
      ]
    },
    {
      "cell_type": "code",
      "metadata": {
        "id": "Jqg0jo7usJWK",
        "colab_type": "code",
        "colab": {
          "base_uri": "https://localhost:8080/",
          "height": 224
        },
        "outputId": "8d7cf053-bd8d-4fab-fb12-db5629d5e46d"
      },
      "source": [
        "!wget https://raw.githubusercontent.com/tesseract-ocr/tesseract/01cf7402dfb3e511a93a04376370ca927aaa0b48/contrib/genlangdata.pl"
      ],
      "execution_count": 38,
      "outputs": [
        {
          "output_type": "stream",
          "text": [
            "--2020-04-19 13:46:44--  https://raw.githubusercontent.com/tesseract-ocr/tesseract/01cf7402dfb3e511a93a04376370ca927aaa0b48/contrib/genlangdata.pl\n",
            "Resolving raw.githubusercontent.com (raw.githubusercontent.com)... 151.101.0.133, 151.101.64.133, 151.101.128.133, ...\n",
            "Connecting to raw.githubusercontent.com (raw.githubusercontent.com)|151.101.0.133|:443... connected.\n",
            "HTTP request sent, awaiting response... 200 OK\n",
            "Length: 6179 (6.0K) [text/plain]\n",
            "Saving to: ‘genlangdata.pl’\n",
            "\n",
            "\rgenlangdata.pl        0%[                    ]       0  --.-KB/s               \rgenlangdata.pl      100%[===================>]   6.03K  --.-KB/s    in 0s      \n",
            "\n",
            "2020-04-19 13:46:45 (45.1 MB/s) - ‘genlangdata.pl’ saved [6179/6179]\n",
            "\n"
          ],
          "name": "stdout"
        }
      ]
    },
    {
      "cell_type": "code",
      "metadata": {
        "id": "Q6Ef_e24vsN-",
        "colab_type": "code",
        "colab": {
          "base_uri": "https://localhost:8080/",
          "height": 204
        },
        "outputId": "50dfd134-9707-44e8-d067-55c2c755b9d5"
      },
      "source": [
        "!wget https://raw.githubusercontent.com/jimregan/tesseract-gle-uncial/master/scripts/toponc.pl"
      ],
      "execution_count": 43,
      "outputs": [
        {
          "output_type": "stream",
          "text": [
            "--2020-04-19 14:02:07--  https://raw.githubusercontent.com/jimregan/tesseract-gle-uncial/master/scripts/toponc.pl\n",
            "Resolving raw.githubusercontent.com (raw.githubusercontent.com)... 151.101.0.133, 151.101.64.133, 151.101.128.133, ...\n",
            "Connecting to raw.githubusercontent.com (raw.githubusercontent.com)|151.101.0.133|:443... connected.\n",
            "HTTP request sent, awaiting response... 200 OK\n",
            "Length: 563 [text/plain]\n",
            "Saving to: ‘toponc.pl’\n",
            "\n",
            "\rtoponc.pl             0%[                    ]       0  --.-KB/s               \rtoponc.pl           100%[===================>]     563  --.-KB/s    in 0s      \n",
            "\n",
            "2020-04-19 14:02:07 (34.2 MB/s) - ‘toponc.pl’ saved [563/563]\n",
            "\n"
          ],
          "name": "stdout"
        }
      ]
    },
    {
      "cell_type": "code",
      "metadata": {
        "id": "4sN2ZqGWvy25",
        "colab_type": "code",
        "colab": {}
      },
      "source": [
        "!cat ria-raw.txt | perl toponc.pl > ria-ponc.txt"
      ],
      "execution_count": 0,
      "outputs": []
    },
    {
      "cell_type": "code",
      "metadata": {
        "id": "sk5irOI9v_oz",
        "colab_type": "code",
        "colab": {}
      },
      "source": [
        "!rm -rf genwlout"
      ],
      "execution_count": 0,
      "outputs": []
    },
    {
      "cell_type": "code",
      "metadata": {
        "id": "Ba8tk80tsTQb",
        "colab_type": "code",
        "colab": {}
      },
      "source": [
        "!perl genlangdata.pl -i ria-ponc.txt -d genwlout -p gle_uncial"
      ],
      "execution_count": 0,
      "outputs": []
    },
    {
      "cell_type": "code",
      "metadata": {
        "id": "KjXJZn8gt1J_",
        "colab_type": "code",
        "colab": {}
      },
      "source": [
        "os.chdir('genwlout')\n",
        "!mv gle_uncial.word.punc.unsorted gle_uncial.punc.unsorted\n",
        "!mv gle_uncial.word.numbers.unsorted gle_uncial.numbers.unsorted\n",
        "!for i in gle_uncial.word.bigrams gle_uncial.wordlist gle_uncial.numbers gle_uncial.punc; do cat $i.unsorted /content/langdata/gle_uncial/$i | sort | uniq > $i;done"
      ],
      "execution_count": 0,
      "outputs": []
    },
    {
      "cell_type": "code",
      "metadata": {
        "id": "5Bngw4sYqpaU",
        "colab_type": "code",
        "colab": {}
      },
      "source": [
        "Grab the fonts"
      ],
      "execution_count": 0,
      "outputs": []
    },
    {
      "cell_type": "code",
      "metadata": {
        "id": "TSECxvfFiCev",
        "colab_type": "code",
        "colab": {}
      },
      "source": [
        "import os\n",
        "os.chdir('/content')\n",
        "!mkdir fonts\n",
        "os.chdir('fonts')\n",
        "!wget -i /content/tesseract-gle-uncial/fonts.txt"
      ],
      "execution_count": 0,
      "outputs": []
    },
    {
      "cell_type": "code",
      "metadata": {
        "id": "VC_DFGpTqyqV",
        "colab_type": "code",
        "colab": {}
      },
      "source": [
        "!for i in *.zip; do unzip $i;done"
      ],
      "execution_count": 0,
      "outputs": []
    }
  ]
}